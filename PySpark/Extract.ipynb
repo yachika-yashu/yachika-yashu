{
  "cells": [
    {
      "cell_type": "code",
      "source": [
        "import pyspark"
      ],
      "metadata": {
        "id": "5w98-YKTotEe"
      },
      "id": "5w98-YKTotEe",
      "execution_count": 1,
      "outputs": []
    },
    {
      "cell_type": "code",
      "source": [
        "pyspark.__version__"
      ],
      "metadata": {
        "id": "ZE-E5oqSs3-o",
        "outputId": "71b11fc0-f0fd-4d82-9db6-03f52a679fba",
        "colab": {
          "base_uri": "https://localhost:8080/",
          "height": 36
        }
      },
      "id": "ZE-E5oqSs3-o",
      "execution_count": 2,
      "outputs": [
        {
          "output_type": "execute_result",
          "data": {
            "text/plain": [
              "'3.5.5'"
            ],
            "application/vnd.google.colaboratory.intrinsic+json": {
              "type": "string"
            }
          },
          "metadata": {},
          "execution_count": 2
        }
      ]
    },
    {
      "cell_type": "code",
      "source": [
        "import pandas as pd\n",
        "pd.read_csv('statsdata.csv')"
      ],
      "metadata": {
        "id": "bdOi0phls9NE",
        "outputId": "028f8395-9e6c-4510-9eb8-da2ada4ee666",
        "colab": {
          "base_uri": "https://localhost:8080/",
          "height": 981
        }
      },
      "id": "bdOi0phls9NE",
      "execution_count": 5,
      "outputs": [
        {
          "output_type": "execute_result",
          "data": {
            "text/plain": [
              "    REF_DATE     GEO           DGUID Labour force characteristics  \\\n",
              "0    2024-11  Canada  2021A000011124                   Employment   \n",
              "1    2024-12  Canada  2021A000011124                   Employment   \n",
              "2    2025-01  Canada  2021A000011124                   Employment   \n",
              "3    2025-02  Canada  2021A000011124                   Employment   \n",
              "4    2025-03  Canada  2021A000011124                   Employment   \n",
              "..       ...     ...             ...                          ...   \n",
              "325  2024-11  Canada  2021A000011124                   Employment   \n",
              "326  2024-12  Canada  2021A000011124                   Employment   \n",
              "327  2025-01  Canada  2021A000011124                   Employment   \n",
              "328  2025-02  Canada  2021A000011124                   Employment   \n",
              "329  2025-03  Canada  2021A000011124                   Employment   \n",
              "\n",
              "             Gender          Age group                   UOM  UOM_ID  \\\n",
              "0    Total - Gender  15 years and over  Persons in thousands     428   \n",
              "1    Total - Gender  15 years and over  Persons in thousands     428   \n",
              "2    Total - Gender  15 years and over  Persons in thousands     428   \n",
              "3    Total - Gender  15 years and over  Persons in thousands     428   \n",
              "4    Total - Gender  15 years and over  Persons in thousands     428   \n",
              "..              ...                ...                   ...     ...   \n",
              "325          Women+  70 years and over  Persons in thousands     428   \n",
              "326          Women+  70 years and over  Persons in thousands     428   \n",
              "327          Women+  70 years and over  Persons in thousands     428   \n",
              "328          Women+  70 years and over  Persons in thousands     428   \n",
              "329          Women+  70 years and over  Persons in thousands     428   \n",
              "\n",
              "    SCALAR_FACTOR  SCALAR_ID    VECTOR COORDINATE    VALUE  STATUS  SYMBOL  \\\n",
              "0       thousands          3  v2091072    1.3.1.1  20828.6     NaN     NaN   \n",
              "1       thousands          3  v2091072    1.3.1.1  20843.6     NaN     NaN   \n",
              "2       thousands          3  v2091072    1.3.1.1  20670.1     NaN     NaN   \n",
              "3       thousands          3  v2091072    1.3.1.1  20768.6     NaN     NaN   \n",
              "4       thousands          3  v2091072    1.3.1.1  20758.0     NaN     NaN   \n",
              "..            ...        ...       ...        ...      ...     ...     ...   \n",
              "325     thousands          3  v2091512   1.3.3.21    148.7     NaN     NaN   \n",
              "326     thousands          3  v2091512   1.3.3.21    156.8     NaN     NaN   \n",
              "327     thousands          3  v2091512   1.3.3.21    153.1     NaN     NaN   \n",
              "328     thousands          3  v2091512   1.3.3.21    156.6     NaN     NaN   \n",
              "329     thousands          3  v2091512   1.3.3.21    159.7     NaN     NaN   \n",
              "\n",
              "     TERMINATED  DECIMALS  \n",
              "0           NaN         1  \n",
              "1           NaN         1  \n",
              "2           NaN         1  \n",
              "3           NaN         1  \n",
              "4           NaN         1  \n",
              "..          ...       ...  \n",
              "325         NaN         1  \n",
              "326         NaN         1  \n",
              "327         NaN         1  \n",
              "328         NaN         1  \n",
              "329         NaN         1  \n",
              "\n",
              "[330 rows x 17 columns]"
            ],
            "text/html": [
              "\n",
              "  <div id=\"df-cb67f905-bfce-4b22-b1b6-b0af7d5f20e2\" class=\"colab-df-container\">\n",
              "    <div>\n",
              "<style scoped>\n",
              "    .dataframe tbody tr th:only-of-type {\n",
              "        vertical-align: middle;\n",
              "    }\n",
              "\n",
              "    .dataframe tbody tr th {\n",
              "        vertical-align: top;\n",
              "    }\n",
              "\n",
              "    .dataframe thead th {\n",
              "        text-align: right;\n",
              "    }\n",
              "</style>\n",
              "<table border=\"1\" class=\"dataframe\">\n",
              "  <thead>\n",
              "    <tr style=\"text-align: right;\">\n",
              "      <th></th>\n",
              "      <th>REF_DATE</th>\n",
              "      <th>GEO</th>\n",
              "      <th>DGUID</th>\n",
              "      <th>Labour force characteristics</th>\n",
              "      <th>Gender</th>\n",
              "      <th>Age group</th>\n",
              "      <th>UOM</th>\n",
              "      <th>UOM_ID</th>\n",
              "      <th>SCALAR_FACTOR</th>\n",
              "      <th>SCALAR_ID</th>\n",
              "      <th>VECTOR</th>\n",
              "      <th>COORDINATE</th>\n",
              "      <th>VALUE</th>\n",
              "      <th>STATUS</th>\n",
              "      <th>SYMBOL</th>\n",
              "      <th>TERMINATED</th>\n",
              "      <th>DECIMALS</th>\n",
              "    </tr>\n",
              "  </thead>\n",
              "  <tbody>\n",
              "    <tr>\n",
              "      <th>0</th>\n",
              "      <td>2024-11</td>\n",
              "      <td>Canada</td>\n",
              "      <td>2021A000011124</td>\n",
              "      <td>Employment</td>\n",
              "      <td>Total - Gender</td>\n",
              "      <td>15 years and over</td>\n",
              "      <td>Persons in thousands</td>\n",
              "      <td>428</td>\n",
              "      <td>thousands</td>\n",
              "      <td>3</td>\n",
              "      <td>v2091072</td>\n",
              "      <td>1.3.1.1</td>\n",
              "      <td>20828.6</td>\n",
              "      <td>NaN</td>\n",
              "      <td>NaN</td>\n",
              "      <td>NaN</td>\n",
              "      <td>1</td>\n",
              "    </tr>\n",
              "    <tr>\n",
              "      <th>1</th>\n",
              "      <td>2024-12</td>\n",
              "      <td>Canada</td>\n",
              "      <td>2021A000011124</td>\n",
              "      <td>Employment</td>\n",
              "      <td>Total - Gender</td>\n",
              "      <td>15 years and over</td>\n",
              "      <td>Persons in thousands</td>\n",
              "      <td>428</td>\n",
              "      <td>thousands</td>\n",
              "      <td>3</td>\n",
              "      <td>v2091072</td>\n",
              "      <td>1.3.1.1</td>\n",
              "      <td>20843.6</td>\n",
              "      <td>NaN</td>\n",
              "      <td>NaN</td>\n",
              "      <td>NaN</td>\n",
              "      <td>1</td>\n",
              "    </tr>\n",
              "    <tr>\n",
              "      <th>2</th>\n",
              "      <td>2025-01</td>\n",
              "      <td>Canada</td>\n",
              "      <td>2021A000011124</td>\n",
              "      <td>Employment</td>\n",
              "      <td>Total - Gender</td>\n",
              "      <td>15 years and over</td>\n",
              "      <td>Persons in thousands</td>\n",
              "      <td>428</td>\n",
              "      <td>thousands</td>\n",
              "      <td>3</td>\n",
              "      <td>v2091072</td>\n",
              "      <td>1.3.1.1</td>\n",
              "      <td>20670.1</td>\n",
              "      <td>NaN</td>\n",
              "      <td>NaN</td>\n",
              "      <td>NaN</td>\n",
              "      <td>1</td>\n",
              "    </tr>\n",
              "    <tr>\n",
              "      <th>3</th>\n",
              "      <td>2025-02</td>\n",
              "      <td>Canada</td>\n",
              "      <td>2021A000011124</td>\n",
              "      <td>Employment</td>\n",
              "      <td>Total - Gender</td>\n",
              "      <td>15 years and over</td>\n",
              "      <td>Persons in thousands</td>\n",
              "      <td>428</td>\n",
              "      <td>thousands</td>\n",
              "      <td>3</td>\n",
              "      <td>v2091072</td>\n",
              "      <td>1.3.1.1</td>\n",
              "      <td>20768.6</td>\n",
              "      <td>NaN</td>\n",
              "      <td>NaN</td>\n",
              "      <td>NaN</td>\n",
              "      <td>1</td>\n",
              "    </tr>\n",
              "    <tr>\n",
              "      <th>4</th>\n",
              "      <td>2025-03</td>\n",
              "      <td>Canada</td>\n",
              "      <td>2021A000011124</td>\n",
              "      <td>Employment</td>\n",
              "      <td>Total - Gender</td>\n",
              "      <td>15 years and over</td>\n",
              "      <td>Persons in thousands</td>\n",
              "      <td>428</td>\n",
              "      <td>thousands</td>\n",
              "      <td>3</td>\n",
              "      <td>v2091072</td>\n",
              "      <td>1.3.1.1</td>\n",
              "      <td>20758.0</td>\n",
              "      <td>NaN</td>\n",
              "      <td>NaN</td>\n",
              "      <td>NaN</td>\n",
              "      <td>1</td>\n",
              "    </tr>\n",
              "    <tr>\n",
              "      <th>...</th>\n",
              "      <td>...</td>\n",
              "      <td>...</td>\n",
              "      <td>...</td>\n",
              "      <td>...</td>\n",
              "      <td>...</td>\n",
              "      <td>...</td>\n",
              "      <td>...</td>\n",
              "      <td>...</td>\n",
              "      <td>...</td>\n",
              "      <td>...</td>\n",
              "      <td>...</td>\n",
              "      <td>...</td>\n",
              "      <td>...</td>\n",
              "      <td>...</td>\n",
              "      <td>...</td>\n",
              "      <td>...</td>\n",
              "      <td>...</td>\n",
              "    </tr>\n",
              "    <tr>\n",
              "      <th>325</th>\n",
              "      <td>2024-11</td>\n",
              "      <td>Canada</td>\n",
              "      <td>2021A000011124</td>\n",
              "      <td>Employment</td>\n",
              "      <td>Women+</td>\n",
              "      <td>70 years and over</td>\n",
              "      <td>Persons in thousands</td>\n",
              "      <td>428</td>\n",
              "      <td>thousands</td>\n",
              "      <td>3</td>\n",
              "      <td>v2091512</td>\n",
              "      <td>1.3.3.21</td>\n",
              "      <td>148.7</td>\n",
              "      <td>NaN</td>\n",
              "      <td>NaN</td>\n",
              "      <td>NaN</td>\n",
              "      <td>1</td>\n",
              "    </tr>\n",
              "    <tr>\n",
              "      <th>326</th>\n",
              "      <td>2024-12</td>\n",
              "      <td>Canada</td>\n",
              "      <td>2021A000011124</td>\n",
              "      <td>Employment</td>\n",
              "      <td>Women+</td>\n",
              "      <td>70 years and over</td>\n",
              "      <td>Persons in thousands</td>\n",
              "      <td>428</td>\n",
              "      <td>thousands</td>\n",
              "      <td>3</td>\n",
              "      <td>v2091512</td>\n",
              "      <td>1.3.3.21</td>\n",
              "      <td>156.8</td>\n",
              "      <td>NaN</td>\n",
              "      <td>NaN</td>\n",
              "      <td>NaN</td>\n",
              "      <td>1</td>\n",
              "    </tr>\n",
              "    <tr>\n",
              "      <th>327</th>\n",
              "      <td>2025-01</td>\n",
              "      <td>Canada</td>\n",
              "      <td>2021A000011124</td>\n",
              "      <td>Employment</td>\n",
              "      <td>Women+</td>\n",
              "      <td>70 years and over</td>\n",
              "      <td>Persons in thousands</td>\n",
              "      <td>428</td>\n",
              "      <td>thousands</td>\n",
              "      <td>3</td>\n",
              "      <td>v2091512</td>\n",
              "      <td>1.3.3.21</td>\n",
              "      <td>153.1</td>\n",
              "      <td>NaN</td>\n",
              "      <td>NaN</td>\n",
              "      <td>NaN</td>\n",
              "      <td>1</td>\n",
              "    </tr>\n",
              "    <tr>\n",
              "      <th>328</th>\n",
              "      <td>2025-02</td>\n",
              "      <td>Canada</td>\n",
              "      <td>2021A000011124</td>\n",
              "      <td>Employment</td>\n",
              "      <td>Women+</td>\n",
              "      <td>70 years and over</td>\n",
              "      <td>Persons in thousands</td>\n",
              "      <td>428</td>\n",
              "      <td>thousands</td>\n",
              "      <td>3</td>\n",
              "      <td>v2091512</td>\n",
              "      <td>1.3.3.21</td>\n",
              "      <td>156.6</td>\n",
              "      <td>NaN</td>\n",
              "      <td>NaN</td>\n",
              "      <td>NaN</td>\n",
              "      <td>1</td>\n",
              "    </tr>\n",
              "    <tr>\n",
              "      <th>329</th>\n",
              "      <td>2025-03</td>\n",
              "      <td>Canada</td>\n",
              "      <td>2021A000011124</td>\n",
              "      <td>Employment</td>\n",
              "      <td>Women+</td>\n",
              "      <td>70 years and over</td>\n",
              "      <td>Persons in thousands</td>\n",
              "      <td>428</td>\n",
              "      <td>thousands</td>\n",
              "      <td>3</td>\n",
              "      <td>v2091512</td>\n",
              "      <td>1.3.3.21</td>\n",
              "      <td>159.7</td>\n",
              "      <td>NaN</td>\n",
              "      <td>NaN</td>\n",
              "      <td>NaN</td>\n",
              "      <td>1</td>\n",
              "    </tr>\n",
              "  </tbody>\n",
              "</table>\n",
              "<p>330 rows × 17 columns</p>\n",
              "</div>\n",
              "    <div class=\"colab-df-buttons\">\n",
              "\n",
              "  <div class=\"colab-df-container\">\n",
              "    <button class=\"colab-df-convert\" onclick=\"convertToInteractive('df-cb67f905-bfce-4b22-b1b6-b0af7d5f20e2')\"\n",
              "            title=\"Convert this dataframe to an interactive table.\"\n",
              "            style=\"display:none;\">\n",
              "\n",
              "  <svg xmlns=\"http://www.w3.org/2000/svg\" height=\"24px\" viewBox=\"0 -960 960 960\">\n",
              "    <path d=\"M120-120v-720h720v720H120Zm60-500h600v-160H180v160Zm220 220h160v-160H400v160Zm0 220h160v-160H400v160ZM180-400h160v-160H180v160Zm440 0h160v-160H620v160ZM180-180h160v-160H180v160Zm440 0h160v-160H620v160Z\"/>\n",
              "  </svg>\n",
              "    </button>\n",
              "\n",
              "  <style>\n",
              "    .colab-df-container {\n",
              "      display:flex;\n",
              "      gap: 12px;\n",
              "    }\n",
              "\n",
              "    .colab-df-convert {\n",
              "      background-color: #E8F0FE;\n",
              "      border: none;\n",
              "      border-radius: 50%;\n",
              "      cursor: pointer;\n",
              "      display: none;\n",
              "      fill: #1967D2;\n",
              "      height: 32px;\n",
              "      padding: 0 0 0 0;\n",
              "      width: 32px;\n",
              "    }\n",
              "\n",
              "    .colab-df-convert:hover {\n",
              "      background-color: #E2EBFA;\n",
              "      box-shadow: 0px 1px 2px rgba(60, 64, 67, 0.3), 0px 1px 3px 1px rgba(60, 64, 67, 0.15);\n",
              "      fill: #174EA6;\n",
              "    }\n",
              "\n",
              "    .colab-df-buttons div {\n",
              "      margin-bottom: 4px;\n",
              "    }\n",
              "\n",
              "    [theme=dark] .colab-df-convert {\n",
              "      background-color: #3B4455;\n",
              "      fill: #D2E3FC;\n",
              "    }\n",
              "\n",
              "    [theme=dark] .colab-df-convert:hover {\n",
              "      background-color: #434B5C;\n",
              "      box-shadow: 0px 1px 3px 1px rgba(0, 0, 0, 0.15);\n",
              "      filter: drop-shadow(0px 1px 2px rgba(0, 0, 0, 0.3));\n",
              "      fill: #FFFFFF;\n",
              "    }\n",
              "  </style>\n",
              "\n",
              "    <script>\n",
              "      const buttonEl =\n",
              "        document.querySelector('#df-cb67f905-bfce-4b22-b1b6-b0af7d5f20e2 button.colab-df-convert');\n",
              "      buttonEl.style.display =\n",
              "        google.colab.kernel.accessAllowed ? 'block' : 'none';\n",
              "\n",
              "      async function convertToInteractive(key) {\n",
              "        const element = document.querySelector('#df-cb67f905-bfce-4b22-b1b6-b0af7d5f20e2');\n",
              "        const dataTable =\n",
              "          await google.colab.kernel.invokeFunction('convertToInteractive',\n",
              "                                                    [key], {});\n",
              "        if (!dataTable) return;\n",
              "\n",
              "        const docLinkHtml = 'Like what you see? Visit the ' +\n",
              "          '<a target=\"_blank\" href=https://colab.research.google.com/notebooks/data_table.ipynb>data table notebook</a>'\n",
              "          + ' to learn more about interactive tables.';\n",
              "        element.innerHTML = '';\n",
              "        dataTable['output_type'] = 'display_data';\n",
              "        await google.colab.output.renderOutput(dataTable, element);\n",
              "        const docLink = document.createElement('div');\n",
              "        docLink.innerHTML = docLinkHtml;\n",
              "        element.appendChild(docLink);\n",
              "      }\n",
              "    </script>\n",
              "  </div>\n",
              "\n",
              "\n",
              "<div id=\"df-4f061927-f4d9-4a7a-b613-3dbfcb658e35\">\n",
              "  <button class=\"colab-df-quickchart\" onclick=\"quickchart('df-4f061927-f4d9-4a7a-b613-3dbfcb658e35')\"\n",
              "            title=\"Suggest charts\"\n",
              "            style=\"display:none;\">\n",
              "\n",
              "<svg xmlns=\"http://www.w3.org/2000/svg\" height=\"24px\"viewBox=\"0 0 24 24\"\n",
              "     width=\"24px\">\n",
              "    <g>\n",
              "        <path d=\"M19 3H5c-1.1 0-2 .9-2 2v14c0 1.1.9 2 2 2h14c1.1 0 2-.9 2-2V5c0-1.1-.9-2-2-2zM9 17H7v-7h2v7zm4 0h-2V7h2v10zm4 0h-2v-4h2v4z\"/>\n",
              "    </g>\n",
              "</svg>\n",
              "  </button>\n",
              "\n",
              "<style>\n",
              "  .colab-df-quickchart {\n",
              "      --bg-color: #E8F0FE;\n",
              "      --fill-color: #1967D2;\n",
              "      --hover-bg-color: #E2EBFA;\n",
              "      --hover-fill-color: #174EA6;\n",
              "      --disabled-fill-color: #AAA;\n",
              "      --disabled-bg-color: #DDD;\n",
              "  }\n",
              "\n",
              "  [theme=dark] .colab-df-quickchart {\n",
              "      --bg-color: #3B4455;\n",
              "      --fill-color: #D2E3FC;\n",
              "      --hover-bg-color: #434B5C;\n",
              "      --hover-fill-color: #FFFFFF;\n",
              "      --disabled-bg-color: #3B4455;\n",
              "      --disabled-fill-color: #666;\n",
              "  }\n",
              "\n",
              "  .colab-df-quickchart {\n",
              "    background-color: var(--bg-color);\n",
              "    border: none;\n",
              "    border-radius: 50%;\n",
              "    cursor: pointer;\n",
              "    display: none;\n",
              "    fill: var(--fill-color);\n",
              "    height: 32px;\n",
              "    padding: 0;\n",
              "    width: 32px;\n",
              "  }\n",
              "\n",
              "  .colab-df-quickchart:hover {\n",
              "    background-color: var(--hover-bg-color);\n",
              "    box-shadow: 0 1px 2px rgba(60, 64, 67, 0.3), 0 1px 3px 1px rgba(60, 64, 67, 0.15);\n",
              "    fill: var(--button-hover-fill-color);\n",
              "  }\n",
              "\n",
              "  .colab-df-quickchart-complete:disabled,\n",
              "  .colab-df-quickchart-complete:disabled:hover {\n",
              "    background-color: var(--disabled-bg-color);\n",
              "    fill: var(--disabled-fill-color);\n",
              "    box-shadow: none;\n",
              "  }\n",
              "\n",
              "  .colab-df-spinner {\n",
              "    border: 2px solid var(--fill-color);\n",
              "    border-color: transparent;\n",
              "    border-bottom-color: var(--fill-color);\n",
              "    animation:\n",
              "      spin 1s steps(1) infinite;\n",
              "  }\n",
              "\n",
              "  @keyframes spin {\n",
              "    0% {\n",
              "      border-color: transparent;\n",
              "      border-bottom-color: var(--fill-color);\n",
              "      border-left-color: var(--fill-color);\n",
              "    }\n",
              "    20% {\n",
              "      border-color: transparent;\n",
              "      border-left-color: var(--fill-color);\n",
              "      border-top-color: var(--fill-color);\n",
              "    }\n",
              "    30% {\n",
              "      border-color: transparent;\n",
              "      border-left-color: var(--fill-color);\n",
              "      border-top-color: var(--fill-color);\n",
              "      border-right-color: var(--fill-color);\n",
              "    }\n",
              "    40% {\n",
              "      border-color: transparent;\n",
              "      border-right-color: var(--fill-color);\n",
              "      border-top-color: var(--fill-color);\n",
              "    }\n",
              "    60% {\n",
              "      border-color: transparent;\n",
              "      border-right-color: var(--fill-color);\n",
              "    }\n",
              "    80% {\n",
              "      border-color: transparent;\n",
              "      border-right-color: var(--fill-color);\n",
              "      border-bottom-color: var(--fill-color);\n",
              "    }\n",
              "    90% {\n",
              "      border-color: transparent;\n",
              "      border-bottom-color: var(--fill-color);\n",
              "    }\n",
              "  }\n",
              "</style>\n",
              "\n",
              "  <script>\n",
              "    async function quickchart(key) {\n",
              "      const quickchartButtonEl =\n",
              "        document.querySelector('#' + key + ' button');\n",
              "      quickchartButtonEl.disabled = true;  // To prevent multiple clicks.\n",
              "      quickchartButtonEl.classList.add('colab-df-spinner');\n",
              "      try {\n",
              "        const charts = await google.colab.kernel.invokeFunction(\n",
              "            'suggestCharts', [key], {});\n",
              "      } catch (error) {\n",
              "        console.error('Error during call to suggestCharts:', error);\n",
              "      }\n",
              "      quickchartButtonEl.classList.remove('colab-df-spinner');\n",
              "      quickchartButtonEl.classList.add('colab-df-quickchart-complete');\n",
              "    }\n",
              "    (() => {\n",
              "      let quickchartButtonEl =\n",
              "        document.querySelector('#df-4f061927-f4d9-4a7a-b613-3dbfcb658e35 button');\n",
              "      quickchartButtonEl.style.display =\n",
              "        google.colab.kernel.accessAllowed ? 'block' : 'none';\n",
              "    })();\n",
              "  </script>\n",
              "</div>\n",
              "\n",
              "    </div>\n",
              "  </div>\n"
            ],
            "application/vnd.google.colaboratory.intrinsic+json": {
              "type": "dataframe",
              "summary": "{\n  \"name\": \"pd\",\n  \"rows\": 330,\n  \"fields\": [\n    {\n      \"column\": \"REF_DATE\",\n      \"properties\": {\n        \"dtype\": \"object\",\n        \"num_unique_values\": 5,\n        \"samples\": [\n          \"2024-12\",\n          \"2025-03\",\n          \"2025-01\"\n        ],\n        \"semantic_type\": \"\",\n        \"description\": \"\"\n      }\n    },\n    {\n      \"column\": \"GEO\",\n      \"properties\": {\n        \"dtype\": \"category\",\n        \"num_unique_values\": 1,\n        \"samples\": [\n          \"Canada\"\n        ],\n        \"semantic_type\": \"\",\n        \"description\": \"\"\n      }\n    },\n    {\n      \"column\": \"DGUID\",\n      \"properties\": {\n        \"dtype\": \"category\",\n        \"num_unique_values\": 1,\n        \"samples\": [\n          \"2021A000011124\"\n        ],\n        \"semantic_type\": \"\",\n        \"description\": \"\"\n      }\n    },\n    {\n      \"column\": \"Labour force characteristics\",\n      \"properties\": {\n        \"dtype\": \"category\",\n        \"num_unique_values\": 1,\n        \"samples\": [\n          \"Employment\"\n        ],\n        \"semantic_type\": \"\",\n        \"description\": \"\"\n      }\n    },\n    {\n      \"column\": \"Gender\",\n      \"properties\": {\n        \"dtype\": \"category\",\n        \"num_unique_values\": 3,\n        \"samples\": [\n          \"Total - Gender\"\n        ],\n        \"semantic_type\": \"\",\n        \"description\": \"\"\n      }\n    },\n    {\n      \"column\": \"Age group\",\n      \"properties\": {\n        \"dtype\": \"category\",\n        \"num_unique_values\": 22,\n        \"samples\": [\n          \"15 years and over\"\n        ],\n        \"semantic_type\": \"\",\n        \"description\": \"\"\n      }\n    },\n    {\n      \"column\": \"UOM\",\n      \"properties\": {\n        \"dtype\": \"category\",\n        \"num_unique_values\": 1,\n        \"samples\": [\n          \"Persons in thousands\"\n        ],\n        \"semantic_type\": \"\",\n        \"description\": \"\"\n      }\n    },\n    {\n      \"column\": \"UOM_ID\",\n      \"properties\": {\n        \"dtype\": \"number\",\n        \"std\": 0,\n        \"min\": 428,\n        \"max\": 428,\n        \"num_unique_values\": 1,\n        \"samples\": [\n          428\n        ],\n        \"semantic_type\": \"\",\n        \"description\": \"\"\n      }\n    },\n    {\n      \"column\": \"SCALAR_FACTOR\",\n      \"properties\": {\n        \"dtype\": \"category\",\n        \"num_unique_values\": 1,\n        \"samples\": [\n          \"thousands\"\n        ],\n        \"semantic_type\": \"\",\n        \"description\": \"\"\n      }\n    },\n    {\n      \"column\": \"SCALAR_ID\",\n      \"properties\": {\n        \"dtype\": \"number\",\n        \"std\": 0,\n        \"min\": 3,\n        \"max\": 3,\n        \"num_unique_values\": 1,\n        \"samples\": [\n          3\n        ],\n        \"semantic_type\": \"\",\n        \"description\": \"\"\n      }\n    },\n    {\n      \"column\": \"VECTOR\",\n      \"properties\": {\n        \"dtype\": \"category\",\n        \"num_unique_values\": 66,\n        \"samples\": [\n          \"v2091501\"\n        ],\n        \"semantic_type\": \"\",\n        \"description\": \"\"\n      }\n    },\n    {\n      \"column\": \"COORDINATE\",\n      \"properties\": {\n        \"dtype\": \"category\",\n        \"num_unique_values\": 66,\n        \"samples\": [\n          \"1.3.3.10\"\n        ],\n        \"semantic_type\": \"\",\n        \"description\": \"\"\n      }\n    },\n    {\n      \"column\": \"VALUE\",\n      \"properties\": {\n        \"dtype\": \"number\",\n        \"std\": 4731.591308315952,\n        \"min\": 148.7,\n        \"max\": 20843.6,\n        \"num_unique_values\": 329,\n        \"samples\": [\n          2575.3\n        ],\n        \"semantic_type\": \"\",\n        \"description\": \"\"\n      }\n    },\n    {\n      \"column\": \"STATUS\",\n      \"properties\": {\n        \"dtype\": \"number\",\n        \"std\": null,\n        \"min\": null,\n        \"max\": null,\n        \"num_unique_values\": 0,\n        \"samples\": [],\n        \"semantic_type\": \"\",\n        \"description\": \"\"\n      }\n    },\n    {\n      \"column\": \"SYMBOL\",\n      \"properties\": {\n        \"dtype\": \"number\",\n        \"std\": null,\n        \"min\": null,\n        \"max\": null,\n        \"num_unique_values\": 0,\n        \"samples\": [],\n        \"semantic_type\": \"\",\n        \"description\": \"\"\n      }\n    },\n    {\n      \"column\": \"TERMINATED\",\n      \"properties\": {\n        \"dtype\": \"number\",\n        \"std\": null,\n        \"min\": null,\n        \"max\": null,\n        \"num_unique_values\": 0,\n        \"samples\": [],\n        \"semantic_type\": \"\",\n        \"description\": \"\"\n      }\n    },\n    {\n      \"column\": \"DECIMALS\",\n      \"properties\": {\n        \"dtype\": \"number\",\n        \"std\": 0,\n        \"min\": 1,\n        \"max\": 1,\n        \"num_unique_values\": 1,\n        \"samples\": [],\n        \"semantic_type\": \"\",\n        \"description\": \"\"\n      }\n    }\n  ]\n}"
            }
          },
          "metadata": {},
          "execution_count": 5
        }
      ]
    },
    {
      "cell_type": "markdown",
      "source": [
        "**Step 1: Creating a SparkSession**\n",
        "A SparkSession is an entry point into all functionality in Spark, and is required if you want to build a dataframe in PySpark.\n",
        "\n",
        "spark = SparkSession.builder.appName(\"Pyspark ETL project\").config(\"spark.memory.offHeap.enabled\",\"true\").config(\"spark.memory.offHeap.size\",\"10g\").getOrCreate()\n",
        "Sure! Here's a concise and informative explanation:\n",
        "\n",
        "SparkSession Configuration Breakdown\n",
        "  1. **SparkSession.builder**: Initializes the builder for creating a SparkSession.\n",
        "  2. **.appName(\"Pyspark ETL project\")**: Sets the name of the Spark application.\n",
        "  3. **.config(\"spark.memory.offHeap.enabled\", \"true\")**: Enables off-heap memory to reduce JVM garbage collection overhead and improve performance for memory-intensive applications.\n",
        "  4. **.config(\"spark.memory.offHeap.size\", \"10g\")**: Allocates 10 gigabytes of off-heap memory.\n",
        "  5. **.getOrCreate()**: Creates a new SparkSession if none exists, or retrieves the existing one.\n",
        "\n",
        "PySpark interacts with Spark’s core, which runs on the JVM (Java Virtual Machine) and is primarily written in Scala. When a SparkSession is created, it initializes the JVM environment for executing Spark operations. The JVM manages heap memory and performs garbage collection, which reclaims unused memory but can cause performance bottlenecks. To reduce this overhead, Spark supports off-heap memory—memory managed outside the JVM heap—minimizing garbage collection pauses and boosting performance. Off-heap memory can be enabled via configuration settings during SparkSession initialization, making Spark applications more memory-efficient."
      ],
      "metadata": {
        "id": "rkMvOyTvwBLH"
      },
      "id": "rkMvOyTvwBLH"
    },
    {
      "cell_type": "code",
      "source": [
        "from pyspark.sql import SparkSession"
      ],
      "metadata": {
        "id": "1m1XNn6R1oK1"
      },
      "id": "1m1XNn6R1oK1",
      "execution_count": 6,
      "outputs": []
    },
    {
      "cell_type": "code",
      "source": [
        "spark = SparkSession.builder.appName(\"Pyspark ETL project\").config(\"spark.memory.offHeap.enabled\",\"true\").config(\"spark.memory.offHeap.size\",\"10g\").getOrCreate()\n"
      ],
      "metadata": {
        "id": "K5QYRC5dwAjh"
      },
      "id": "K5QYRC5dwAjh",
      "execution_count": 47,
      "outputs": []
    },
    {
      "cell_type": "code",
      "source": [
        "spark"
      ],
      "metadata": {
        "id": "Am65ELKwwAgH",
        "outputId": "51ec418b-8d1f-47e3-db16-1fd45b18dfb8",
        "colab": {
          "base_uri": "https://localhost:8080/",
          "height": 222
        }
      },
      "id": "Am65ELKwwAgH",
      "execution_count": 12,
      "outputs": [
        {
          "output_type": "execute_result",
          "data": {
            "text/plain": [
              "<pyspark.sql.session.SparkSession at 0x7c1060292210>"
            ],
            "text/html": [
              "\n",
              "            <div>\n",
              "                <p><b>SparkSession - in-memory</b></p>\n",
              "                \n",
              "        <div>\n",
              "            <p><b>SparkContext</b></p>\n",
              "\n",
              "            <p><a href=\"http://6d359e2a7822:4040\">Spark UI</a></p>\n",
              "\n",
              "            <dl>\n",
              "              <dt>Version</dt>\n",
              "                <dd><code>v3.5.5</code></dd>\n",
              "              <dt>Master</dt>\n",
              "                <dd><code>local[*]</code></dd>\n",
              "              <dt>AppName</dt>\n",
              "                <dd><code>Pyspark ETL project</code></dd>\n",
              "            </dl>\n",
              "        </div>\n",
              "        \n",
              "            </div>\n",
              "        "
            ]
          },
          "metadata": {},
          "execution_count": 12
        }
      ]
    },
    {
      "cell_type": "code",
      "source": [
        "df = spark.read.csv('statsdata.csv',header=True)"
      ],
      "metadata": {
        "id": "rC0ZRObowAc7"
      },
      "id": "rC0ZRObowAc7",
      "execution_count": 48,
      "outputs": []
    },
    {
      "cell_type": "code",
      "source": [
        "#df.show()\n",
        "df.show(5,0) #same as df.head(5)"
      ],
      "metadata": {
        "id": "-oCBVs_XwAZ7",
        "outputId": "dfb6899b-3500-4b26-b677-ad7074ca9d97",
        "colab": {
          "base_uri": "https://localhost:8080/"
        }
      },
      "id": "-oCBVs_XwAZ7",
      "execution_count": 49,
      "outputs": [
        {
          "output_type": "stream",
          "name": "stdout",
          "text": [
            "+--------+------+--------------+----------------------------+--------------+-----------------+--------------------+------+-------------+---------+--------+----------+-------+------+------+----------+--------+\n",
            "|REF_DATE|GEO   |DGUID         |Labour force characteristics|Gender        |Age group        |UOM                 |UOM_ID|SCALAR_FACTOR|SCALAR_ID|VECTOR  |COORDINATE|VALUE  |STATUS|SYMBOL|TERMINATED|DECIMALS|\n",
            "+--------+------+--------------+----------------------------+--------------+-----------------+--------------------+------+-------------+---------+--------+----------+-------+------+------+----------+--------+\n",
            "|2024-11 |Canada|2021A000011124|Employment                  |Total - Gender|15 years and over|Persons in thousands|428   |thousands    |3        |v2091072|1.3.1.1   |20828.6|NULL  |NULL  |NULL      |1       |\n",
            "|2024-12 |Canada|2021A000011124|Employment                  |Total - Gender|15 years and over|Persons in thousands|428   |thousands    |3        |v2091072|1.3.1.1   |20843.6|NULL  |NULL  |NULL      |1       |\n",
            "|2025-01 |Canada|2021A000011124|Employment                  |Total - Gender|15 years and over|Persons in thousands|428   |thousands    |3        |v2091072|1.3.1.1   |20670.1|NULL  |NULL  |NULL      |1       |\n",
            "|2025-02 |Canada|2021A000011124|Employment                  |Total - Gender|15 years and over|Persons in thousands|428   |thousands    |3        |v2091072|1.3.1.1   |20768.6|NULL  |NULL  |NULL      |1       |\n",
            "|2025-03 |Canada|2021A000011124|Employment                  |Total - Gender|15 years and over|Persons in thousands|428   |thousands    |3        |v2091072|1.3.1.1   |20758.0|NULL  |NULL  |NULL      |1       |\n",
            "+--------+------+--------------+----------------------------+--------------+-----------------+--------------------+------+-------------+---------+--------+----------+-------+------+------+----------+--------+\n",
            "only showing top 5 rows\n",
            "\n"
          ]
        }
      ]
    },
    {
      "cell_type": "markdown",
      "source": [
        "**Step 2:  Data Wrangling / Data Preprocessing**\n",
        "\n",
        "\n",
        "2.1 Inspecting Data inclues Viewing column names, data types, and summary statistics."
      ],
      "metadata": {
        "id": "4ja-T2JhBYKx"
      },
      "id": "4ja-T2JhBYKx"
    },
    {
      "cell_type": "code",
      "source": [
        "type(df)"
      ],
      "metadata": {
        "id": "kouYwc8zwAWj",
        "outputId": "fc4ac939-ec99-41e4-fec4-fd1694e09cc4",
        "colab": {
          "base_uri": "https://localhost:8080/",
          "height": 186
        }
      },
      "id": "kouYwc8zwAWj",
      "execution_count": 50,
      "outputs": [
        {
          "output_type": "execute_result",
          "data": {
            "text/plain": [
              "pyspark.sql.dataframe.DataFrame"
            ],
            "text/html": [
              "<div style=\"max-width:800px; border: 1px solid var(--colab-border-color);\"><style>\n",
              "      pre.function-repr-contents {\n",
              "        overflow-x: auto;\n",
              "        padding: 8px 12px;\n",
              "        max-height: 500px;\n",
              "      }\n",
              "\n",
              "      pre.function-repr-contents.function-repr-contents-collapsed {\n",
              "        cursor: pointer;\n",
              "        max-height: 100px;\n",
              "      }\n",
              "    </style>\n",
              "    <pre style=\"white-space: initial; background:\n",
              "         var(--colab-secondary-surface-color); padding: 8px 12px;\n",
              "         border-bottom: 1px solid var(--colab-border-color);\"><b>pyspark.sql.dataframe.DataFrame</b><br/>def __init__(jdf: JavaObject, sql_ctx: Union[&#x27;SQLContext&#x27;, &#x27;SparkSession&#x27;])</pre><pre class=\"function-repr-contents function-repr-contents-collapsed\" style=\"\"><a class=\"filepath\" style=\"display:none\" href=\"#\">/usr/local/lib/python3.11/dist-packages/pyspark/sql/dataframe.py</a>A distributed collection of data grouped into named columns.\n",
              "\n",
              ".. versionadded:: 1.3.0\n",
              "\n",
              ".. versionchanged:: 3.4.0\n",
              "    Supports Spark Connect.\n",
              "\n",
              "Examples\n",
              "--------\n",
              "A :class:`DataFrame` is equivalent to a relational table in Spark SQL,\n",
              "and can be created using various functions in :class:`SparkSession`:\n",
              "\n",
              "&gt;&gt;&gt; people = spark.createDataFrame([\n",
              "...     {&quot;deptId&quot;: 1, &quot;age&quot;: 40, &quot;name&quot;: &quot;Hyukjin Kwon&quot;, &quot;gender&quot;: &quot;M&quot;, &quot;salary&quot;: 50},\n",
              "...     {&quot;deptId&quot;: 1, &quot;age&quot;: 50, &quot;name&quot;: &quot;Takuya Ueshin&quot;, &quot;gender&quot;: &quot;M&quot;, &quot;salary&quot;: 100},\n",
              "...     {&quot;deptId&quot;: 2, &quot;age&quot;: 60, &quot;name&quot;: &quot;Xinrong Meng&quot;, &quot;gender&quot;: &quot;F&quot;, &quot;salary&quot;: 150},\n",
              "...     {&quot;deptId&quot;: 3, &quot;age&quot;: 20, &quot;name&quot;: &quot;Haejoon Lee&quot;, &quot;gender&quot;: &quot;M&quot;, &quot;salary&quot;: 200}\n",
              "... ])\n",
              "\n",
              "Once created, it can be manipulated using the various domain-specific-language\n",
              "(DSL) functions defined in: :class:`DataFrame`, :class:`Column`.\n",
              "\n",
              "To select a column from the :class:`DataFrame`, use the apply method:\n",
              "\n",
              "&gt;&gt;&gt; age_col = people.age\n",
              "\n",
              "A more concrete example:\n",
              "\n",
              "&gt;&gt;&gt; # To create DataFrame using SparkSession\n",
              "... department = spark.createDataFrame([\n",
              "...     {&quot;id&quot;: 1, &quot;name&quot;: &quot;PySpark&quot;},\n",
              "...     {&quot;id&quot;: 2, &quot;name&quot;: &quot;ML&quot;},\n",
              "...     {&quot;id&quot;: 3, &quot;name&quot;: &quot;Spark SQL&quot;}\n",
              "... ])\n",
              "\n",
              "&gt;&gt;&gt; people.filter(people.age &gt; 30).join(\n",
              "...     department, people.deptId == department.id).groupBy(\n",
              "...     department.name, &quot;gender&quot;).agg({&quot;salary&quot;: &quot;avg&quot;, &quot;age&quot;: &quot;max&quot;}).show()\n",
              "+-------+------+-----------+--------+\n",
              "|   name|gender|avg(salary)|max(age)|\n",
              "+-------+------+-----------+--------+\n",
              "|     ML|     F|      150.0|      60|\n",
              "|PySpark|     M|       75.0|      50|\n",
              "+-------+------+-----------+--------+\n",
              "\n",
              "Notes\n",
              "-----\n",
              "A DataFrame should only be created as described above. It should not be directly\n",
              "created via using the constructor.</pre>\n",
              "      <script>\n",
              "      if (google.colab.kernel.accessAllowed && google.colab.files && google.colab.files.view) {\n",
              "        for (const element of document.querySelectorAll('.filepath')) {\n",
              "          element.style.display = 'block'\n",
              "          element.onclick = (event) => {\n",
              "            event.preventDefault();\n",
              "            event.stopPropagation();\n",
              "            google.colab.files.view(element.textContent, 80);\n",
              "          };\n",
              "        }\n",
              "      }\n",
              "      for (const element of document.querySelectorAll('.function-repr-contents')) {\n",
              "        element.onclick = (event) => {\n",
              "          event.preventDefault();\n",
              "          event.stopPropagation();\n",
              "          element.classList.toggle('function-repr-contents-collapsed');\n",
              "        };\n",
              "      }\n",
              "      </script>\n",
              "      </div>"
            ]
          },
          "metadata": {},
          "execution_count": 50
        }
      ]
    },
    {
      "cell_type": "code",
      "source": [
        "### Check the schema\n",
        "df.printSchema()   #same as df.info() in pandas"
      ],
      "metadata": {
        "id": "j7SW9MzIwAS-",
        "outputId": "2b0b030f-0b08-413f-d407-19d3bdb5bc47",
        "colab": {
          "base_uri": "https://localhost:8080/"
        }
      },
      "id": "j7SW9MzIwAS-",
      "execution_count": 51,
      "outputs": [
        {
          "output_type": "stream",
          "name": "stdout",
          "text": [
            "root\n",
            " |-- REF_DATE: string (nullable = true)\n",
            " |-- GEO: string (nullable = true)\n",
            " |-- DGUID: string (nullable = true)\n",
            " |-- Labour force characteristics: string (nullable = true)\n",
            " |-- Gender: string (nullable = true)\n",
            " |-- Age group: string (nullable = true)\n",
            " |-- UOM: string (nullable = true)\n",
            " |-- UOM_ID: string (nullable = true)\n",
            " |-- SCALAR_FACTOR: string (nullable = true)\n",
            " |-- SCALAR_ID: string (nullable = true)\n",
            " |-- VECTOR: string (nullable = true)\n",
            " |-- COORDINATE: string (nullable = true)\n",
            " |-- VALUE: string (nullable = true)\n",
            " |-- STATUS: string (nullable = true)\n",
            " |-- SYMBOL: string (nullable = true)\n",
            " |-- TERMINATED: string (nullable = true)\n",
            " |-- DECIMALS: string (nullable = true)\n",
            "\n"
          ]
        }
      ]
    },
    {
      "cell_type": "code",
      "source": [
        "df.count()  #no. of rows in the dataframe"
      ],
      "metadata": {
        "id": "4himAD6KwAPu",
        "outputId": "d40c5174-20b5-42ba-c43e-4bbcbe7122ea",
        "colab": {
          "base_uri": "https://localhost:8080/"
        }
      },
      "id": "4himAD6KwAPu",
      "execution_count": 52,
      "outputs": [
        {
          "output_type": "execute_result",
          "data": {
            "text/plain": [
              "330"
            ]
          },
          "metadata": {},
          "execution_count": 52
        }
      ]
    },
    {
      "cell_type": "code",
      "source": [
        "df.columns  #column names in the dataframe"
      ],
      "metadata": {
        "id": "C9VcD7oO6hIM",
        "outputId": "d040180b-d029-45d0-e359-6f3837f6ef9a",
        "colab": {
          "base_uri": "https://localhost:8080/"
        }
      },
      "id": "C9VcD7oO6hIM",
      "execution_count": 53,
      "outputs": [
        {
          "output_type": "execute_result",
          "data": {
            "text/plain": [
              "['REF_DATE',\n",
              " 'GEO',\n",
              " 'DGUID',\n",
              " 'Labour force characteristics',\n",
              " 'Gender',\n",
              " 'Age group',\n",
              " 'UOM',\n",
              " 'UOM_ID',\n",
              " 'SCALAR_FACTOR',\n",
              " 'SCALAR_ID',\n",
              " 'VECTOR',\n",
              " 'COORDINATE',\n",
              " 'VALUE',\n",
              " 'STATUS',\n",
              " 'SYMBOL',\n",
              " 'TERMINATED',\n",
              " 'DECIMALS']"
            ]
          },
          "metadata": {},
          "execution_count": 53
        }
      ]
    },
    {
      "cell_type": "markdown",
      "source": [
        "To view some columns: use Select and show"
      ],
      "metadata": {
        "id": "IehJOKAI3qzn"
      },
      "id": "IehJOKAI3qzn"
    },
    {
      "cell_type": "code",
      "source": [
        "df.select(['REF_DATE','Gender', 'Age group','VALUE',]).show(5)"
      ],
      "metadata": {
        "id": "YPKv3xpP3qf5",
        "outputId": "59c83250-f1af-4b7b-b80f-99d35ef7e4db",
        "colab": {
          "base_uri": "https://localhost:8080/"
        }
      },
      "id": "YPKv3xpP3qf5",
      "execution_count": 54,
      "outputs": [
        {
          "output_type": "stream",
          "name": "stdout",
          "text": [
            "+--------+--------------+-----------------+-------+\n",
            "|REF_DATE|        Gender|        Age group|  VALUE|\n",
            "+--------+--------------+-----------------+-------+\n",
            "| 2024-11|Total - Gender|15 years and over|20828.6|\n",
            "| 2024-12|Total - Gender|15 years and over|20843.6|\n",
            "| 2025-01|Total - Gender|15 years and over|20670.1|\n",
            "| 2025-02|Total - Gender|15 years and over|20768.6|\n",
            "| 2025-03|Total - Gender|15 years and over|20758.0|\n",
            "+--------+--------------+-----------------+-------+\n",
            "only showing top 5 rows\n",
            "\n"
          ]
        }
      ]
    },
    {
      "cell_type": "code",
      "source": [
        "df.dtypes #datatype of each column"
      ],
      "metadata": {
        "id": "l8ci_0p_wAIZ",
        "outputId": "97b20532-b887-4c40-a01c-c4e7240ef05e",
        "colab": {
          "base_uri": "https://localhost:8080/"
        }
      },
      "id": "l8ci_0p_wAIZ",
      "execution_count": 55,
      "outputs": [
        {
          "output_type": "execute_result",
          "data": {
            "text/plain": [
              "[('REF_DATE', 'string'),\n",
              " ('GEO', 'string'),\n",
              " ('DGUID', 'string'),\n",
              " ('Labour force characteristics', 'string'),\n",
              " ('Gender', 'string'),\n",
              " ('Age group', 'string'),\n",
              " ('UOM', 'string'),\n",
              " ('UOM_ID', 'string'),\n",
              " ('SCALAR_FACTOR', 'string'),\n",
              " ('SCALAR_ID', 'string'),\n",
              " ('VECTOR', 'string'),\n",
              " ('COORDINATE', 'string'),\n",
              " ('VALUE', 'string'),\n",
              " ('STATUS', 'string'),\n",
              " ('SYMBOL', 'string'),\n",
              " ('TERMINATED', 'string'),\n",
              " ('DECIMALS', 'string')]"
            ]
          },
          "metadata": {},
          "execution_count": 55
        }
      ]
    },
    {
      "cell_type": "code",
      "source": [
        "df.describe().show() #summary of all columns"
      ],
      "metadata": {
        "id": "1ZKBU4Z3wAE6",
        "outputId": "e39b032e-0651-415e-d8c7-47d5d0ac6d9b",
        "colab": {
          "base_uri": "https://localhost:8080/"
        }
      },
      "id": "1ZKBU4Z3wAE6",
      "execution_count": 56,
      "outputs": [
        {
          "output_type": "stream",
          "name": "stdout",
          "text": [
            "+-------+--------+------+--------------+----------------------------+------+-----------------+--------------------+------+-------------+---------+---------+----------+-----------------+------+------+----------+--------+\n",
            "|summary|REF_DATE|   GEO|         DGUID|Labour force characteristics|Gender|        Age group|                 UOM|UOM_ID|SCALAR_FACTOR|SCALAR_ID|   VECTOR|COORDINATE|            VALUE|STATUS|SYMBOL|TERMINATED|DECIMALS|\n",
            "+-------+--------+------+--------------+----------------------------+------+-----------------+--------------------+------+-------------+---------+---------+----------+-----------------+------+------+----------+--------+\n",
            "|  count|     330|   330|           330|                         330|   330|              330|                 330|   330|          330|      330|      330|       330|              330|     0|     0|         0|     330|\n",
            "|   mean|    NULL|  NULL|          NULL|                        NULL|  NULL|             NULL|                NULL| 428.0|         NULL|      3.0|     NULL|      NULL| 3842.91666666667|  NULL|  NULL|      NULL|     1.0|\n",
            "| stddev|    NULL|  NULL|          NULL|                        NULL|  NULL|             NULL|                NULL|   0.0|         NULL|      0.0|     NULL|      NULL|4731.591308315953|  NULL|  NULL|      NULL|     0.0|\n",
            "|    min| 2024-11|Canada|2021A000011124|                  Employment|  Men+|   15 to 19 years|Persons in thousands|   428|    thousands|        3|v19650588|   1.3.1.1|           1001.7|  NULL|  NULL|      NULL|       1|\n",
            "|    max| 2025-03|Canada|2021A000011124|                  Employment|Women+|70 years and over|Persons in thousands|   428|    thousands|        3| v2091512|   1.3.3.9|            999.7|  NULL|  NULL|      NULL|       1|\n",
            "+-------+--------+------+--------------+----------------------------+------+-----------------+--------------------+------+-------------+---------+---------+----------+-----------------+------+------+----------+--------+\n",
            "\n"
          ]
        }
      ]
    },
    {
      "cell_type": "markdown",
      "source": [
        "2.2 Transforming Data: Adding, removing, or renaming columns; encoding categorical variables; normalizing data."
      ],
      "metadata": {
        "id": "Sj6UF1OADPf2"
      },
      "id": "Sj6UF1OADPf2"
    },
    {
      "cell_type": "code",
      "source": [
        "### Adding Columns in data frame\n",
        "df=df.withColumn('Employment_Count',df['VALUE']*1000)\n"
      ],
      "metadata": {
        "id": "HgmspmTvv__N"
      },
      "id": "HgmspmTvv__N",
      "execution_count": 57,
      "outputs": []
    },
    {
      "cell_type": "code",
      "source": [
        "df.show(5)"
      ],
      "metadata": {
        "id": "pt5vnPBntBkr",
        "outputId": "4c22894e-47ee-41e8-fde2-a2603a298730",
        "colab": {
          "base_uri": "https://localhost:8080/"
        }
      },
      "id": "pt5vnPBntBkr",
      "execution_count": 41,
      "outputs": [
        {
          "output_type": "stream",
          "name": "stdout",
          "text": [
            "+--------+--------------+-----------------+--------+----------+-------+------+------+----------+----------------+\n",
            "|REF_DATE|        Gender|        Age group|  VECTOR|COORDINATE|  VALUE|STATUS|SYMBOL|TERMINATED|Employment_Count|\n",
            "+--------+--------------+-----------------+--------+----------+-------+------+------+----------+----------------+\n",
            "| 2024-11|Total - Gender|15 years and over|v2091072|   1.3.1.1|20828.6|  NULL|  NULL|      NULL|       2.08286E7|\n",
            "| 2024-12|Total - Gender|15 years and over|v2091072|   1.3.1.1|20843.6|  NULL|  NULL|      NULL|       2.08436E7|\n",
            "| 2025-01|Total - Gender|15 years and over|v2091072|   1.3.1.1|20670.1|  NULL|  NULL|      NULL|       2.06701E7|\n",
            "| 2025-02|Total - Gender|15 years and over|v2091072|   1.3.1.1|20768.6|  NULL|  NULL|      NULL|       2.07686E7|\n",
            "| 2025-03|Total - Gender|15 years and over|v2091072|   1.3.1.1|20758.0|  NULL|  NULL|      NULL|        2.0758E7|\n",
            "+--------+--------------+-----------------+--------+----------+-------+------+------+----------+----------------+\n",
            "only showing top 5 rows\n",
            "\n"
          ]
        }
      ]
    },
    {
      "cell_type": "code",
      "source": [
        "### Drop the columns\n",
        "df=df.drop(\"GEO\",\"DGUID\",\"UOM\",\"UOM_ID\",\"SCALAR_FACTOR\",\"SCALAR_ID\",\"DECIMALS\",\"Labour force characteristics\")"
      ],
      "metadata": {
        "id": "NunDu9q64yUS"
      },
      "id": "NunDu9q64yUS",
      "execution_count": 58,
      "outputs": []
    },
    {
      "cell_type": "code",
      "source": [
        "df.show(5)"
      ],
      "metadata": {
        "id": "Imi6XBAG-L50",
        "outputId": "a3525f5d-0807-4a15-e9f7-e01f70f1a7e6",
        "colab": {
          "base_uri": "https://localhost:8080/"
        }
      },
      "id": "Imi6XBAG-L50",
      "execution_count": 40,
      "outputs": [
        {
          "output_type": "stream",
          "name": "stdout",
          "text": [
            "+--------+--------------+-----------------+--------+----------+-------+------+------+----------+----------------+\n",
            "|REF_DATE|        Gender|        Age group|  VECTOR|COORDINATE|  VALUE|STATUS|SYMBOL|TERMINATED|Employment_Count|\n",
            "+--------+--------------+-----------------+--------+----------+-------+------+------+----------+----------------+\n",
            "| 2024-11|Total - Gender|15 years and over|v2091072|   1.3.1.1|20828.6|  NULL|  NULL|      NULL|       2.08286E7|\n",
            "| 2024-12|Total - Gender|15 years and over|v2091072|   1.3.1.1|20843.6|  NULL|  NULL|      NULL|       2.08436E7|\n",
            "| 2025-01|Total - Gender|15 years and over|v2091072|   1.3.1.1|20670.1|  NULL|  NULL|      NULL|       2.06701E7|\n",
            "| 2025-02|Total - Gender|15 years and over|v2091072|   1.3.1.1|20768.6|  NULL|  NULL|      NULL|       2.07686E7|\n",
            "| 2025-03|Total - Gender|15 years and over|v2091072|   1.3.1.1|20758.0|  NULL|  NULL|      NULL|        2.0758E7|\n",
            "+--------+--------------+-----------------+--------+----------+-------+------+------+----------+----------------+\n",
            "only showing top 5 rows\n",
            "\n"
          ]
        }
      ]
    },
    {
      "cell_type": "code",
      "source": [
        "### Rename the columns\n",
        "df.withColumnRenamed('value', \"Employment_Count (in thousands)\" ).show(5)"
      ],
      "metadata": {
        "id": "ahzBAUwl4yKT",
        "outputId": "b48fc4ca-b9de-4832-a32b-1e7080b4aa22",
        "colab": {
          "base_uri": "https://localhost:8080/"
        }
      },
      "id": "ahzBAUwl4yKT",
      "execution_count": 59,
      "outputs": [
        {
          "output_type": "stream",
          "name": "stdout",
          "text": [
            "+--------+--------------+-----------------+--------+----------+-------------------------------+------+------+----------+----------------+\n",
            "|REF_DATE|        Gender|        Age group|  VECTOR|COORDINATE|Employment_Count (in thousands)|STATUS|SYMBOL|TERMINATED|Employment_Count|\n",
            "+--------+--------------+-----------------+--------+----------+-------------------------------+------+------+----------+----------------+\n",
            "| 2024-11|Total - Gender|15 years and over|v2091072|   1.3.1.1|                        20828.6|  NULL|  NULL|      NULL|       2.08286E7|\n",
            "| 2024-12|Total - Gender|15 years and over|v2091072|   1.3.1.1|                        20843.6|  NULL|  NULL|      NULL|       2.08436E7|\n",
            "| 2025-01|Total - Gender|15 years and over|v2091072|   1.3.1.1|                        20670.1|  NULL|  NULL|      NULL|       2.06701E7|\n",
            "| 2025-02|Total - Gender|15 years and over|v2091072|   1.3.1.1|                        20768.6|  NULL|  NULL|      NULL|       2.07686E7|\n",
            "| 2025-03|Total - Gender|15 years and over|v2091072|   1.3.1.1|                        20758.0|  NULL|  NULL|      NULL|        2.0758E7|\n",
            "+--------+--------------+-----------------+--------+----------+-------------------------------+------+------+----------+----------------+\n",
            "only showing top 5 rows\n",
            "\n"
          ]
        }
      ]
    },
    {
      "cell_type": "markdown",
      "source": [
        "2.3 Cleaning Data: Handling missing values, removing duplicates, and correcting errors."
      ],
      "metadata": {
        "id": "pB8VUpeyCzRg"
      },
      "id": "pB8VUpeyCzRg"
    },
    {
      "cell_type": "code",
      "source": [
        "#df.na.drop().show()  #whereever it sees null value it will drop that row"
      ],
      "metadata": {
        "id": "p8JHTm7Q4x_-"
      },
      "id": "p8JHTm7Q4x_-",
      "execution_count": 60,
      "outputs": []
    },
    {
      "cell_type": "code",
      "source": [
        "### any==how\n",
        "df.na.drop(how=\"all\").show(5) #if all the values of the row are null only then delete , how=\"any\" is the other option which is default as well"
      ],
      "metadata": {
        "id": "JrePAMfuD-eQ",
        "outputId": "d2d02ad8-e318-478a-c589-a67328a9369c",
        "colab": {
          "base_uri": "https://localhost:8080/"
        }
      },
      "id": "JrePAMfuD-eQ",
      "execution_count": 61,
      "outputs": [
        {
          "output_type": "stream",
          "name": "stdout",
          "text": [
            "+--------+--------------+-----------------+--------+----------+-------+------+------+----------+----------------+\n",
            "|REF_DATE|        Gender|        Age group|  VECTOR|COORDINATE|  VALUE|STATUS|SYMBOL|TERMINATED|Employment_Count|\n",
            "+--------+--------------+-----------------+--------+----------+-------+------+------+----------+----------------+\n",
            "| 2024-11|Total - Gender|15 years and over|v2091072|   1.3.1.1|20828.6|  NULL|  NULL|      NULL|       2.08286E7|\n",
            "| 2024-12|Total - Gender|15 years and over|v2091072|   1.3.1.1|20843.6|  NULL|  NULL|      NULL|       2.08436E7|\n",
            "| 2025-01|Total - Gender|15 years and over|v2091072|   1.3.1.1|20670.1|  NULL|  NULL|      NULL|       2.06701E7|\n",
            "| 2025-02|Total - Gender|15 years and over|v2091072|   1.3.1.1|20768.6|  NULL|  NULL|      NULL|       2.07686E7|\n",
            "| 2025-03|Total - Gender|15 years and over|v2091072|   1.3.1.1|20758.0|  NULL|  NULL|      NULL|        2.0758E7|\n",
            "+--------+--------------+-----------------+--------+----------+-------+------+------+----------+----------------+\n",
            "only showing top 5 rows\n",
            "\n"
          ]
        }
      ]
    },
    {
      "cell_type": "code",
      "source": [
        "##threshold\n",
        "df.na.drop(how=\"any\",thresh=7).show(5)  #keep those rows which have atleast 7 non null values, The thresh parameter in the drop() method specifies the minimum number of non-null values required to keep a row."
      ],
      "metadata": {
        "id": "sIfnUGk4EAFc",
        "outputId": "439d6fb6-6dab-42df-9989-13324360b154",
        "colab": {
          "base_uri": "https://localhost:8080/"
        }
      },
      "id": "sIfnUGk4EAFc",
      "execution_count": 62,
      "outputs": [
        {
          "output_type": "stream",
          "name": "stdout",
          "text": [
            "+--------+--------------+-----------------+--------+----------+-------+------+------+----------+----------------+\n",
            "|REF_DATE|        Gender|        Age group|  VECTOR|COORDINATE|  VALUE|STATUS|SYMBOL|TERMINATED|Employment_Count|\n",
            "+--------+--------------+-----------------+--------+----------+-------+------+------+----------+----------------+\n",
            "| 2024-11|Total - Gender|15 years and over|v2091072|   1.3.1.1|20828.6|  NULL|  NULL|      NULL|       2.08286E7|\n",
            "| 2024-12|Total - Gender|15 years and over|v2091072|   1.3.1.1|20843.6|  NULL|  NULL|      NULL|       2.08436E7|\n",
            "| 2025-01|Total - Gender|15 years and over|v2091072|   1.3.1.1|20670.1|  NULL|  NULL|      NULL|       2.06701E7|\n",
            "| 2025-02|Total - Gender|15 years and over|v2091072|   1.3.1.1|20768.6|  NULL|  NULL|      NULL|       2.07686E7|\n",
            "| 2025-03|Total - Gender|15 years and over|v2091072|   1.3.1.1|20758.0|  NULL|  NULL|      NULL|        2.0758E7|\n",
            "+--------+--------------+-----------------+--------+----------+-------+------+------+----------+----------------+\n",
            "only showing top 5 rows\n",
            "\n"
          ]
        }
      ]
    },
    {
      "cell_type": "code",
      "source": [
        "##Subset\n",
        "df.na.drop(how=\"any\",subset=['value']).show(5) # since value column is important, check if contain any null value, if in value column there is null value then delete that row"
      ],
      "metadata": {
        "id": "GZ4SUhcVEBs2",
        "outputId": "1c970559-faac-4a17-acfd-cd79b500a628",
        "colab": {
          "base_uri": "https://localhost:8080/"
        }
      },
      "id": "GZ4SUhcVEBs2",
      "execution_count": 63,
      "outputs": [
        {
          "output_type": "stream",
          "name": "stdout",
          "text": [
            "+--------+--------------+-----------------+--------+----------+-------+------+------+----------+----------------+\n",
            "|REF_DATE|        Gender|        Age group|  VECTOR|COORDINATE|  VALUE|STATUS|SYMBOL|TERMINATED|Employment_Count|\n",
            "+--------+--------------+-----------------+--------+----------+-------+------+------+----------+----------------+\n",
            "| 2024-11|Total - Gender|15 years and over|v2091072|   1.3.1.1|20828.6|  NULL|  NULL|      NULL|       2.08286E7|\n",
            "| 2024-12|Total - Gender|15 years and over|v2091072|   1.3.1.1|20843.6|  NULL|  NULL|      NULL|       2.08436E7|\n",
            "| 2025-01|Total - Gender|15 years and over|v2091072|   1.3.1.1|20670.1|  NULL|  NULL|      NULL|       2.06701E7|\n",
            "| 2025-02|Total - Gender|15 years and over|v2091072|   1.3.1.1|20768.6|  NULL|  NULL|      NULL|       2.07686E7|\n",
            "| 2025-03|Total - Gender|15 years and over|v2091072|   1.3.1.1|20758.0|  NULL|  NULL|      NULL|        2.0758E7|\n",
            "+--------+--------------+-----------------+--------+----------+-------+------+------+----------+----------------+\n",
            "only showing top 5 rows\n",
            "\n"
          ]
        }
      ]
    },
    {
      "cell_type": "code",
      "source": [
        "### Filling the Missing Value\n",
        "df.na.fill('Missing Values',['status']).show(5)"
      ],
      "metadata": {
        "id": "cC5Mp2tNEEDo",
        "outputId": "43d5e952-7d95-4ed7-ad40-2cb0fb00f2f9",
        "colab": {
          "base_uri": "https://localhost:8080/"
        }
      },
      "id": "cC5Mp2tNEEDo",
      "execution_count": 64,
      "outputs": [
        {
          "output_type": "stream",
          "name": "stdout",
          "text": [
            "+--------+--------------+-----------------+--------+----------+-------+--------------+------+----------+----------------+\n",
            "|REF_DATE|        Gender|        Age group|  VECTOR|COORDINATE|  VALUE|        STATUS|SYMBOL|TERMINATED|Employment_Count|\n",
            "+--------+--------------+-----------------+--------+----------+-------+--------------+------+----------+----------------+\n",
            "| 2024-11|Total - Gender|15 years and over|v2091072|   1.3.1.1|20828.6|Missing Values|  NULL|      NULL|       2.08286E7|\n",
            "| 2024-12|Total - Gender|15 years and over|v2091072|   1.3.1.1|20843.6|Missing Values|  NULL|      NULL|       2.08436E7|\n",
            "| 2025-01|Total - Gender|15 years and over|v2091072|   1.3.1.1|20670.1|Missing Values|  NULL|      NULL|       2.06701E7|\n",
            "| 2025-02|Total - Gender|15 years and over|v2091072|   1.3.1.1|20768.6|Missing Values|  NULL|      NULL|       2.07686E7|\n",
            "| 2025-03|Total - Gender|15 years and over|v2091072|   1.3.1.1|20758.0|Missing Values|  NULL|      NULL|        2.0758E7|\n",
            "+--------+--------------+-----------------+--------+----------+-------+--------------+------+----------+----------------+\n",
            "only showing top 5 rows\n",
            "\n"
          ]
        }
      ]
    },
    {
      "cell_type": "code",
      "source": [
        "from pyspark.ml.feature import Imputer\n",
        "\n",
        "imputer = Imputer(\n",
        "    inputCols=['value','Age group','gender','ref_date'],\n",
        "    outputCols=[\"{}_imputed\".format(c) for c in ['value','Age group','gender','ref_date']]\n",
        "    ).setStrategy(\"median\")"
      ],
      "metadata": {
        "id": "C--tZV0g-dxd"
      },
      "id": "C--tZV0g-dxd",
      "execution_count": 65,
      "outputs": []
    },
    {
      "cell_type": "markdown",
      "source": [
        "The Imputer is used to fill missing values in a DataFrame.\n",
        "inputCols: Specifies the columns in the DataFrame that contain missing values and need imputation.outputCols: Specifies the names of the new columns that will contain the imputed values. outputcols code dynamically generates the names of the output columns by appending _imputed to each input column name.\n",
        "setStrategy(\"median\"): Sets the imputation strategy to \"median\". This means that missing values will be filled with the median value of the respective column."
      ],
      "metadata": {
        "id": "kBGvSHOn_cL-"
      },
      "id": "kBGvSHOn_cL-"
    },
    {
      "cell_type": "code",
      "source": [
        "df.show(5)"
      ],
      "metadata": {
        "id": "cAAHHKVq_I-Z",
        "outputId": "f010f784-ad5d-4cb7-8718-6ca7bc1bd46b",
        "colab": {
          "base_uri": "https://localhost:8080/"
        }
      },
      "id": "cAAHHKVq_I-Z",
      "execution_count": 67,
      "outputs": [
        {
          "output_type": "stream",
          "name": "stdout",
          "text": [
            "+--------+--------------+-----------------+--------+----------+-------+------+------+----------+----------------+\n",
            "|REF_DATE|        Gender|        Age group|  VECTOR|COORDINATE|  VALUE|STATUS|SYMBOL|TERMINATED|Employment_Count|\n",
            "+--------+--------------+-----------------+--------+----------+-------+------+------+----------+----------------+\n",
            "| 2024-11|Total - Gender|15 years and over|v2091072|   1.3.1.1|20828.6|  NULL|  NULL|      NULL|       2.08286E7|\n",
            "| 2024-12|Total - Gender|15 years and over|v2091072|   1.3.1.1|20843.6|  NULL|  NULL|      NULL|       2.08436E7|\n",
            "| 2025-01|Total - Gender|15 years and over|v2091072|   1.3.1.1|20670.1|  NULL|  NULL|      NULL|       2.06701E7|\n",
            "| 2025-02|Total - Gender|15 years and over|v2091072|   1.3.1.1|20768.6|  NULL|  NULL|      NULL|       2.07686E7|\n",
            "| 2025-03|Total - Gender|15 years and over|v2091072|   1.3.1.1|20758.0|  NULL|  NULL|      NULL|        2.0758E7|\n",
            "+--------+--------------+-----------------+--------+----------+-------+------+------+----------+----------------+\n",
            "only showing top 5 rows\n",
            "\n"
          ]
        }
      ]
    },
    {
      "cell_type": "markdown",
      "source": [
        "Filter operations"
      ],
      "metadata": {
        "id": "wV-hm82VCGPH"
      },
      "id": "wV-hm82VCGPH"
    },
    {
      "cell_type": "code",
      "source": [],
      "metadata": {
        "id": "zwjyske2HNdt"
      },
      "id": "zwjyske2HNdt",
      "execution_count": null,
      "outputs": []
    },
    {
      "cell_type": "code",
      "source": [
        "df = df.withColumn('REF_DATE',to_timestamp(\"reference_date\", 'yyyy/MM'))"
      ],
      "metadata": {
        "id": "_jdn5b_wCFpu",
        "outputId": "9b43f933-6a42-494a-9b44-f6a4ae7e8cbf",
        "colab": {
          "base_uri": "https://localhost:8080/",
          "height": 146
        }
      },
      "id": "_jdn5b_wCFpu",
      "execution_count": 70,
      "outputs": [
        {
          "output_type": "error",
          "ename": "NameError",
          "evalue": "name 'to_timestamp' is not defined",
          "traceback": [
            "\u001b[0;31m---------------------------------------------------------------------------\u001b[0m",
            "\u001b[0;31mNameError\u001b[0m                                 Traceback (most recent call last)",
            "\u001b[0;32m<ipython-input-70-bacd0ad40d90>\u001b[0m in \u001b[0;36m<cell line: 0>\u001b[0;34m()\u001b[0m\n\u001b[0;32m----> 1\u001b[0;31m \u001b[0mdf\u001b[0m \u001b[0;34m=\u001b[0m \u001b[0mdf\u001b[0m\u001b[0;34m.\u001b[0m\u001b[0mwithColumn\u001b[0m\u001b[0;34m(\u001b[0m\u001b[0;34m'REF_DATE'\u001b[0m\u001b[0;34m,\u001b[0m\u001b[0mto_timestamp\u001b[0m\u001b[0;34m(\u001b[0m\u001b[0;34m\"reference_date\"\u001b[0m\u001b[0;34m,\u001b[0m \u001b[0;34m'yyyy/MM'\u001b[0m\u001b[0;34m)\u001b[0m\u001b[0;34m)\u001b[0m\u001b[0;34m\u001b[0m\u001b[0;34m\u001b[0m\u001b[0m\n\u001b[0m",
            "\u001b[0;31mNameError\u001b[0m: name 'to_timestamp' is not defined"
          ]
        }
      ]
    },
    {
      "cell_type": "code",
      "source": [
        "df.filter(\"REF_DATE\">=2025-01).select(['Age group','gender','ref_date','value']).show()"
      ],
      "metadata": {
        "id": "mxpMWr9OCWxU",
        "outputId": "2e460501-663a-4f47-bcd9-55b55fd4a90b",
        "colab": {
          "base_uri": "https://localhost:8080/",
          "height": 110
        }
      },
      "id": "mxpMWr9OCWxU",
      "execution_count": 69,
      "outputs": [
        {
          "output_type": "error",
          "ename": "SyntaxError",
          "evalue": "leading zeros in decimal integer literals are not permitted; use an 0o prefix for octal integers (<ipython-input-69-4208c1a410d8>, line 1)",
          "traceback": [
            "\u001b[0;36m  File \u001b[0;32m\"<ipython-input-69-4208c1a410d8>\"\u001b[0;36m, line \u001b[0;32m1\u001b[0m\n\u001b[0;31m    df.filter(\"REF_DATE\">=2025-01).select(['Age group','gender','ref_date','value']).show()\u001b[0m\n\u001b[0m                               ^\u001b[0m\n\u001b[0;31mSyntaxError\u001b[0m\u001b[0;31m:\u001b[0m leading zeros in decimal integer literals are not permitted; use an 0o prefix for octal integers\n"
          ]
        }
      ]
    },
    {
      "cell_type": "code",
      "source": [
        "df_pyspark.filter(df_pyspark['Salary']<=20000).show()"
      ],
      "metadata": {
        "id": "LpCbLsa3Cabj"
      },
      "id": "LpCbLsa3Cabj",
      "execution_count": null,
      "outputs": []
    },
    {
      "cell_type": "code",
      "source": [
        "df_pyspark.filter((df_pyspark['Salary']<=20000) |\n",
        "                  (df_pyspark['Salary']>=15000)).show()"
      ],
      "metadata": {
        "id": "hhBN46NtCb4Z"
      },
      "id": "hhBN46NtCb4Z",
      "execution_count": null,
      "outputs": []
    },
    {
      "cell_type": "code",
      "source": [
        "df_pyspark.filter(~(df_pyspark['Salary']<=20000)).show()"
      ],
      "metadata": {
        "id": "TXTb7i-5CeLU"
      },
      "id": "TXTb7i-5CeLU",
      "execution_count": null,
      "outputs": []
    },
    {
      "cell_type": "markdown",
      "source": [
        "Step 3: Exploratory Data Analysis"
      ],
      "metadata": {
        "id": "3VP0iH5L5LBu"
      },
      "id": "3VP0iH5L5LBu"
    },
    {
      "cell_type": "code",
      "source": [],
      "metadata": {
        "id": "B4xiKERJ5L6G"
      },
      "id": "B4xiKERJ5L6G",
      "execution_count": null,
      "outputs": []
    },
    {
      "cell_type": "code",
      "source": [
        "df.select('CustomerID').distinct().count() # Answer: 4373"
      ],
      "metadata": {
        "id": "vEMx34sL5Mf3"
      },
      "id": "vEMx34sL5Mf3",
      "execution_count": null,
      "outputs": []
    },
    {
      "cell_type": "code",
      "source": [
        "df.groupBy('Country').agg(countDistinct('CustomerID').alias('country_count')).show()"
      ],
      "metadata": {
        "id": "ZRVXbsRV5MZD"
      },
      "id": "ZRVXbsRV5MZD",
      "execution_count": null,
      "outputs": []
    },
    {
      "cell_type": "code",
      "source": [],
      "metadata": {
        "id": "Naqpm0sy5MQs"
      },
      "id": "Naqpm0sy5MQs",
      "execution_count": null,
      "outputs": []
    }
  ],
  "metadata": {
    "colab": {
      "provenance": []
    },
    "language_info": {
      "name": "python"
    },
    "kernelspec": {
      "name": "python3",
      "display_name": "Python 3"
    }
  },
  "nbformat": 4,
  "nbformat_minor": 5
}