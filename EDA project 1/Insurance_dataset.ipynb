{
  "nbformat": 4,
  "nbformat_minor": 0,
  "metadata": {
    "colab": {
      "provenance": [],
      "mount_file_id": "https://github.com/yachika-yashu/yachika-yashu/blob/main/EDA%20project%201/Insurance_dataset.ipynb",
      "authorship_tag": "ABX9TyO8EGwm3NBl5dfnuz8EyEVp",
      "include_colab_link": true
    },
    "kernelspec": {
      "name": "python3",
      "display_name": "Python 3"
    },
    "language_info": {
      "name": "python"
    }
  },
  "cells": [
    {
      "cell_type": "markdown",
      "metadata": {
        "id": "view-in-github",
        "colab_type": "text"
      },
      "source": [
        "<a href=\"https://colab.research.google.com/github/yachika-yashu/yachika-yashu/blob/main/EDA%20project%201/Insurance_dataset.ipynb\" target=\"_parent\"><img src=\"https://colab.research.google.com/assets/colab-badge.svg\" alt=\"Open In Colab\"/></a>"
      ]
    },
    {
      "cell_type": "markdown",
      "source": [
        "Link for the dataset: https://www.kaggle.com/datasets/thedevastator/insurance-claim-analysis-demographic-and-health"
      ],
      "metadata": {
        "id": "spbL5dUQH4yG"
      }
    },
    {
      "cell_type": "markdown",
      "source": [
        "Step 1: Import Libraries"
      ],
      "metadata": {
        "id": "63OY4AgmRzvT"
      }
    },
    {
      "cell_type": "code",
      "execution_count": 4,
      "metadata": {
        "id": "1oCkmhVRnvBQ"
      },
      "outputs": [],
      "source": [
        "import pandas as pd\n",
        "import numpy as np\n",
        "import matplotlib.pyplot as plt\n",
        "import seaborn as sns"
      ]
    },
    {
      "cell_type": "markdown",
      "source": [
        "Step 2: Load the Dataset"
      ],
      "metadata": {
        "id": "NJMVFcPgR4mA"
      }
    },
    {
      "cell_type": "code",
      "source": [
        "df = pd.read_csv('insurance_data.csv')\n"
      ],
      "metadata": {
        "id": "LVarLFj_I-jb"
      },
      "execution_count": 5,
      "outputs": []
    },
    {
      "cell_type": "markdown",
      "source": [
        "Step 3: Understand the Data"
      ],
      "metadata": {
        "id": "T4XAk_KUR8J4"
      }
    },
    {
      "cell_type": "code",
      "source": [
        "# Display the first few rows\n",
        "print(df.head())\n",
        "\n",
        "# Get the shape of the dataset\n",
        "print(df.shape)\n",
        "\n",
        "# Get information about the dataset\n",
        "print(df.info())\n",
        "\n",
        "# Get summary statistics\n",
        "print(df.describe())"
      ],
      "metadata": {
        "id": "BFohY2yCJTlh"
      },
      "execution_count": null,
      "outputs": []
    },
    {
      "cell_type": "markdown",
      "source": [
        "Step 4: Handle Missing Values"
      ],
      "metadata": {
        "id": "bHjsVafYSOud"
      }
    },
    {
      "cell_type": "code",
      "source": [
        "print(df.isnull().sum())\n",
        "df['col-name'].fillna(df['col-name'].mean())"
      ],
      "metadata": {
        "id": "PcNkMoGBJTbY"
      },
      "execution_count": null,
      "outputs": []
    },
    {
      "cell_type": "markdown",
      "source": [
        "Step 5: Handle Duplicate Values"
      ],
      "metadata": {
        "id": "9aGRGIhhSby_"
      }
    },
    {
      "cell_type": "code",
      "source": [
        "print(df.duplicated.sum())"
      ],
      "metadata": {
        "id": "fA-RXMfgJTNX"
      },
      "execution_count": null,
      "outputs": []
    },
    {
      "cell_type": "markdown",
      "source": [
        "Step 6: Modify/add/insert columns"
      ],
      "metadata": {
        "id": "HgjoqZn1TLdY"
      }
    },
    {
      "cell_type": "code",
      "source": [
        "df.columns"
      ],
      "metadata": {
        "id": "1masJhx3JS-C"
      },
      "execution_count": null,
      "outputs": []
    },
    {
      "cell_type": "markdown",
      "source": [
        "Step 7: See value count of categorical columns and visualize"
      ],
      "metadata": {
        "id": "AbcFXZhyTrZO"
      }
    },
    {
      "cell_type": "code",
      "source": [],
      "metadata": {
        "id": "9RB9eRUnTWbC"
      },
      "execution_count": null,
      "outputs": []
    },
    {
      "cell_type": "markdown",
      "source": [
        "Step 8: Data Visualization"
      ],
      "metadata": {
        "id": "kuJHwBH9T97w"
      }
    },
    {
      "cell_type": "code",
      "source": [],
      "metadata": {
        "id": "rQrfba88TWR-"
      },
      "execution_count": null,
      "outputs": []
    },
    {
      "cell_type": "code",
      "source": [],
      "metadata": {
        "id": "dqSMaGv0TWGZ"
      },
      "execution_count": null,
      "outputs": []
    }
  ]
}